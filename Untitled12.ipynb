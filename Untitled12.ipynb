{
  "cells": [
    {
      "cell_type": "markdown",
      "metadata": {
        "id": "omzHoETXxna3"
      },
      "source": []
    },
    {
      "cell_type": "markdown",
      "metadata": {
        "id": "PuOYcLAIxrMZ"
      },
      "source": [
        "#Theory Questions\n",
        "\n",
        "#1.What is a RESTful API?\n",
        "\n",
        "A RESTful API (Representational State Transfer API) follows REST principles, using standard HTTP methods to interact with resources.\n",
        "\n",
        "#2.Explain the concept of API specification.\n",
        "\n",
        "API specification defines how an API should behave, including endpoints, request/response formats, and authentication.\n",
        "\n",
        "#3.What is Flask, and why is it popular for building APIs?\n",
        "\n",
        "Flask is a lightweight Python web framework that is easy to use, flexible, and extensible, making it ideal for API development.\n",
        "\n",
        "#4.What is routing in Flask?\n",
        "\n",
        "Routing in Flask maps URLs to specific view functions using the @app.route() decorator.\n",
        "\n",
        "#5.How do you create a simple Flask application?\n",
        "\n",
        "from flask import Flask\n",
        "app = Flask(__name__)\n",
        "\n",
        "@app.route('/')\n",
        "def home():\n",
        "    return \"Hello, Flask!\"\n",
        "\n",
        "if __name__ == '__main__':\n",
        "    app.run(debug=True)\n",
        "#6.What are HTTP methods used in RESTful APIs?\n",
        "\n",
        "Common methods include:\n",
        "\n",
        "GET: Retrieve data.\n",
        "\n",
        "POST: Create new data.\n",
        "\n",
        "PUT: Update data.\n",
        "\n",
        "DELETE: Remove data.\n",
        "\n",
        "#7.What is the purpose of the @app.route() decorator in Flask?\n",
        "\n",
        "It defines routes to map URLs to specific functions.\n",
        "\n",
        "#8.What is the difference between GET and POST HTTP methods?\n",
        "\n",
        "GET retrieves data without modifying anything.\n",
        "\n",
        "POST sends data to the server to create or update resources.\n",
        "\n",
        "#9.How do you handle errors in Flask APIs?\n",
        "\n",
        "Use @app.errorhandler() to handle specific errors.\n",
        "\n",
        "@app.errorhandler(404)\n",
        "def not_found(error):\n",
        "    return {\"error\": \"Not Found\"}, 404\n",
        "\n",
        "#10.How do you connect Flask to a SQL database?\n",
        "\n",
        "Use Flask-SQLAlchemy to connect Flask with databases like MySQL or SQLite.\n",
        "\n",
        "#11.What is the role of Flask-SQLAlchemy?\n",
        "\n",
        "It is an ORM (Object-Relational Mapper) that simplifies database interactions in Flask.\n",
        "\n",
        "#12.What are Flask blueprints, and how are they useful?\n",
        "\n",
        "Blueprints allow modular app structuring, enabling separation of concerns.\n",
        "\n",
        "#13.What is the purpose of Flask's request object?\n",
        "\n",
        "It provides access to incoming request data like form data, JSON, and headers.\n",
        "\n",
        "#14.How do you create a RESTful API endpoint using Flask?\n",
        "\n",
        "from flask import Flask, jsonify\n",
        "\n",
        "app = Flask(__name__)\n",
        "\n",
        "@app.route('/api/data', methods=['GET'])\n",
        "def get_data():\n",
        "    return jsonify({\"message\": \"Hello, API!\"})\n",
        "\n",
        "if __name__ == '__main__':\n",
        "    app.run(debug=True)\n",
        "\n",
        "\n",
        "#15.What is the purpose of Flask's jsonify() function?\n",
        "\n",
        "Converts Python dictionaries into JSON responses.\n",
        "\n",
        "Explain Flask’s url_for() function.\n",
        "\n",
        "Generates URLs for Flask routes dynamically.\n",
        "\n",
        "#16.How does Flask handle static files (CSS, JavaScript, etc.)?\n",
        "\n",
        "Stores them in a static/ directory and serves them using url_for('static', filename='style.css').\n",
        "\n",
        "#17.What is an API specification, and how does it help in building a Flask API?\n",
        "\n",
        "Defines API structure, ensuring consistency and documentation (e.g., OpenAPI).\n",
        "\n",
        "#18.hat are HTTP status codes, and why are they important in a Flask API?\n",
        "\n",
        "They indicate response status:\n",
        "\n",
        "200 OK\n",
        "\n",
        "400 Bad Request\n",
        "\n",
        "404 Not Found\n",
        "\n",
        "500 Internal Server Error\n",
        "\n",
        "#19.How do you handle POST requests in Flask?\n",
        "\n",
        "from flask import request\n",
        "\n",
        "@app.route('/submit', methods=['POST'])\n",
        "def submit():\n",
        "    data = request.json\n",
        "    return jsonify(data)\n",
        "\n",
        "#20.How would you secure a Flask API?\n",
        "\n",
        "Use authentication (JWT, OAuth), rate limiting, and HTTPS.\n",
        "\n",
        "#21.What is the significance of the Flask-RESTful extension?\n",
        "\n",
        "Simplifies building RESTful APIs by providing class-based resource handling.\n",
        "\n",
        "#22.What is the role of Flask’s session object?\n",
        "\n",
        "Stores user session data securely."
      ]
    },
    {
      "cell_type": "code",
      "execution_count": null,
      "metadata": {
        "id": "ePAQvUT1iA3p"
      },
      "outputs": [],
      "source": [
        "# 1.How do you create a basic Flask application ?\n",
        "\n",
        "from flask import Flask\n",
        "app = Flask(__name__)\n",
        "\n",
        "@app.route('/')\n",
        "def home():\n",
        "    return \"Welcome to Flask!\"\n",
        "\n",
        "if __name__ == '__main__':\n",
        "    app.run(debug=True)"
      ]
    },
    {
      "cell_type": "code",
      "execution_count": null,
      "metadata": {
        "id": "TaIMppskyl8Q"
      },
      "outputs": [],
      "source": [
        "#How do you serve static files like images or CSS in Flask ?\n",
        "<!DOCTYPE html>\n",
        "<html>\n",
        "<head>\n",
        "    <title>My Flask App</title>\n",
        "    <link rel=\"stylesheet\" href=\"{{ url_for('static', filename='css/style.css') }}\">\n",
        "</head>\n",
        "<body>\n",
        "    <h1>Welcome to Flask!</h1>\n",
        "    <img src=\"{{ url_for('static', filename='images/logo.png') }}\" alt=\"Logo\">\n",
        "</body>\n",
        "</html>"
      ]
    },
    {
      "cell_type": "code",
      "execution_count": null,
      "metadata": {
        "id": "RpCideqlz3bq"
      },
      "outputs": [],
      "source": [
        "#3.How do you define different routes with different HTTP methods in Flask ?\n",
        "\n",
        "from flask import Flask, request\n",
        "\n",
        "app = Flask(__name__)  # Ensure app is defined\n",
        "\n",
        "@app.route('/submit', methods=['GET', 'POST'])\n",
        "def submit():\n",
        "    if request.method == 'POST':\n",
        "        return \"Handling POST request\"\n",
        "    return \"Handling GET request\"\n",
        "\n",
        "if __name__ == '__main__':\n",
        "    app.run(debug=True)\n",
        "\n"
      ]
    },
    {
      "cell_type": "code",
      "execution_count": null,
      "metadata": {
        "id": "Grmjhc020zIg"
      },
      "outputs": [],
      "source": [
        "#4.How do you render HTML templates in Flask ?\n",
        "from flask import render_template\n",
        "\n",
        "@app.route('/')\n",
        "def home():\n",
        "    return render_template('index.html')\n"
      ]
    },
    {
      "cell_type": "code",
      "source": [
        "#5.How can you generate URLs for routes in Flask using url_for ?\n",
        "from flask import url_for\n",
        "\n",
        "@app.route('/profile/<username>')\n",
        "def profile(username):\n",
        "    return f\"Profile page of {username}\"\n",
        "\n",
        "# Generate URL\n",
        "print(url_for('profile', username='John'))\n"
      ],
      "metadata": {
        "id": "O5RLjNbECNPS"
      },
      "execution_count": null,
      "outputs": []
    },
    {
      "cell_type": "code",
      "source": [
        "#6.How do you handle forms in Flask ?\n",
        "from flask import request\n",
        "\n",
        "@app.route('/form', methods=['POST'])\n",
        "def handle_form():\n",
        "    name = request.form['name']\n",
        "    return f\"Hello, {name}!\"\n"
      ],
      "metadata": {
        "id": "ytnvkbNjCmJ8"
      },
      "execution_count": null,
      "outputs": []
    },
    {
      "cell_type": "code",
      "source": [
        "#7.How can you validate form data in Flask ?\n",
        "from flask_wtf import FlaskForm\n",
        "from wtforms import StringField, validators\n",
        "\n",
        "class MyForm(FlaskForm):\n",
        "    name = StringField('Name', [validators.DataRequired()])\n",
        "\n"
      ],
      "metadata": {
        "id": "4WaXq-GMC2FF"
      },
      "execution_count": null,
      "outputs": []
    },
    {
      "cell_type": "code",
      "source": [
        "#8.How do you manage sessions in Flask ?\n",
        "from flask import session\n",
        "\n",
        "app.secret_key = 'your_secret_key'\n",
        "\n",
        "@app.route('/set_session')\n",
        "def set_session():\n",
        "    session['username'] = 'JohnDoe'\n",
        "    return \"Session set!\"\n",
        "\n",
        "@app.route('/get_session')\n",
        "def get_session():\n",
        "    return session.get('username', 'No session set')\n"
      ],
      "metadata": {
        "id": "awo1nFFCC0Xt"
      },
      "execution_count": null,
      "outputs": []
    },
    {
      "cell_type": "code",
      "source": [
        "#9. How do you redirect to a different route in Flask ?\n",
        "from flask import redirect\n",
        "\n",
        "@app.route('/go-home')\n",
        "def go_home():\n",
        "    return redirect(url_for('home'))\n"
      ],
      "metadata": {
        "id": "YwzMsaSFDMLg"
      },
      "execution_count": null,
      "outputs": []
    },
    {
      "cell_type": "code",
      "source": [
        "#10.How do you handle errors in Flask (e.g., 404) ?\n",
        "@app.errorhandler(404)\n",
        "def page_not_found(e):\n",
        "    return \"Page not found\", 404\n",
        "\n"
      ],
      "metadata": {
        "id": "pJPTFcMoDWa0"
      },
      "execution_count": null,
      "outputs": []
    },
    {
      "cell_type": "code",
      "source": [
        "#11.How do you structure a Flask app using Blueprints ?\n",
        "from flask import Blueprint\n",
        "\n",
        "bp = Blueprint('admin', __name__, url_prefix='/admin')\n",
        "\n",
        "@bp.route('/')\n",
        "def admin_home():\n",
        "    return \"Admin Panel\"\n",
        "\n",
        "app.register_blueprint(bp)\n"
      ],
      "metadata": {
        "id": "zPR1YSmWDfEP"
      },
      "execution_count": null,
      "outputs": []
    },
    {
      "cell_type": "code",
      "source": [
        "#12.How do you define a custom Jinja filter in Flask ?\n",
        "@app.template_filter('reverse')\n",
        "def reverse_filter(s):\n",
        "    return s[::-1]\n",
        "\n",
        "# Use in template: {{ \"hello\" | reverse }}\n",
        "\n"
      ],
      "metadata": {
        "id": "5a0fDmUuDmYD"
      },
      "execution_count": null,
      "outputs": []
    },
    {
      "cell_type": "code",
      "source": [
        "#13.How can you redirect with query parameters in Flask ?\n",
        "@app.route('/redirect-with-query')\n",
        "def redirect_with_query():\n",
        "    return redirect(url_for('home', message='Hello'))\n",
        "\n"
      ],
      "metadata": {
        "id": "lFEGoLukDyjA"
      },
      "execution_count": null,
      "outputs": []
    },
    {
      "cell_type": "code",
      "source": [
        "#14.How do you return JSON responses in Flask ?\n",
        "from flask import jsonify\n",
        "\n",
        "@app.route('/api/data')\n",
        "def api_data():\n",
        "    return jsonify({\"name\": \"Alice\", \"age\": 25})\n"
      ],
      "metadata": {
        "id": "R1soCc1bEDHy"
      },
      "execution_count": null,
      "outputs": []
    },
    {
      "cell_type": "code",
      "source": [
        "#15.How do you capture URL parameters in Flask ?\n",
        "@app.route('/user/<int:user_id>')\n",
        "def user_profile(user_id):\n",
        "    return f\"User ID: {user_id}\"\n"
      ],
      "metadata": {
        "id": "qvB-s_OwEMIA"
      },
      "execution_count": null,
      "outputs": []
    },
    {
      "cell_type": "code",
      "source": [],
      "metadata": {
        "id": "Vn0QRJshEfCU"
      },
      "execution_count": null,
      "outputs": []
    }
  ],
  "metadata": {
    "colab": {
      "provenance": []
    },
    "kernelspec": {
      "display_name": "Python 3",
      "name": "python3"
    },
    "language_info": {
      "name": "python"
    }
  },
  "nbformat": 4,
  "nbformat_minor": 0
}